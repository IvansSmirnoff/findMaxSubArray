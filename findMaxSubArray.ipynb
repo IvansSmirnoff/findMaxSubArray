{
 "cells": [
  {
   "cell_type": "markdown",
   "metadata": {},
   "source": [
    "# Описание задачи\n",
    "\n",
    "Найти непрерывный подмассив в массиве, содержащий хотя бы одно число,\n",
    "который имеет наибольшую сумму.\n",
    "\n",
    "Необходимо написать программу с функцией findMaxSubArray(A),\n",
    "принимающей на вход массив целых чисел А ненулевой длины и\n",
    "возвращающей непрерывный подмассив массива А ненулевой длины,\n",
    "который имеет наибольшую сумму среди всех непрерывных\n",
    "подмассивов массива А.\n",
    "\n",
    "__Алгоритм и объяснение решения снизу, под решением__"
   ]
  },
  {
   "cell_type": "markdown",
   "metadata": {},
   "source": [
    "# Решение задачи"
   ]
  },
  {
   "cell_type": "code",
   "execution_count": 1,
   "metadata": {},
   "outputs": [],
   "source": [
    "def findMaxSubArray(A):\n",
    "    worst_sum = 0\n",
    "    current_sum = 0\n",
    "    index_begin = 0\n",
    "    index_end = 0\n",
    "    value = A[0]\n",
    "    print(A)\n",
    "    for i in range(len(A)):\n",
    "        \n",
    "        # Ищем наибольшую из сумм\n",
    "        if current_sum - worst_sum > value:  \n",
    "            value = current_sum - worst_sum\n",
    "            index_end = i\n",
    "        \n",
    "        # Ищем наименьшую из сумм\n",
    "        if worst_sum > current_sum:\n",
    "            worst_sum = current_sum\n",
    "            index_begin = i\n",
    "        \n",
    "        # Считаем текущую сумму\n",
    "        current_sum += A[i]\n",
    "    \n",
    "    # Решение в случае ответа из одного единственного положительного числа массива или при отсутствии положительных членов\n",
    "    if index_end == 0:\n",
    "        return A[index_begin - 1]\n",
    "    else:\n",
    "        return A[index_begin:index_end]"
   ]
  },
  {
   "cell_type": "code",
   "execution_count": 2,
   "metadata": {},
   "outputs": [
    {
     "name": "stdout",
     "output_type": "stream",
     "text": [
      "[-2, 1, -3, 4, -1, 2, 1, -5, 4]\n"
     ]
    },
    {
     "data": {
      "text/plain": [
       "[4, -1, 2, 1]"
      ]
     },
     "execution_count": 2,
     "metadata": {},
     "output_type": "execute_result"
    }
   ],
   "source": [
    "findMaxSubArray([-2,1,-3,4,-1,2,1,-5,4])"
   ]
  },
  {
   "cell_type": "markdown",
   "metadata": {},
   "source": [
    "# Алгоритм решения задачи"
   ]
  },
  {
   "cell_type": "markdown",
   "metadata": {},
   "source": [
    "Введём понятие текущей суммы: \n",
    "\n",
    "$$current\\_\\_sum[n] =\\sum\\nolimits_{i=1}^n a_i$$\n",
    "\n",
    "Минимальной текущей суммы:\n",
    "\n",
    "$$worst\\_\\_sum = min(current\\_\\_sum)$$"
   ]
  },
  {
   "cell_type": "markdown",
   "metadata": {},
   "source": [
    "Самая важная переменная алгоритма - наименьшее значение текущей суммы за весь массив. \n",
    "\n",
    "Если такая минимальная сумма перестаёт уменьшаться, с её конца может начинаться максимальная сумма.\n",
    "\n",
    "Алгоритм следующий:\n",
    "\n",
    "- Запускаем цикл по длине массива. __В шаге _n_ цикла:__\n",
    "    - Считаем разницу между текущей суммой и минимумом, сравнивая с сохранённым максимумом. Если $current\\_\\_sum[n] - min(current\\_\\_sum) > value $, мы нашли бОльшую сумму, максимум.\n",
    "    - Проверяем минимальную сумму $worst\\_\\_sum$, сравнивая с $current\\_\\_sum[n]$\n",
    "    - Считаем текущую сумму на каждом шаге $current\\_\\_sum[n] =\\sum\\nolimits_{i=1}^n a_i$"
   ]
  },
  {
   "cell_type": "markdown",
   "metadata": {},
   "source": [
    "Отработка и пошаговая проверка алгоритма (процесс решения):"
   ]
  },
  {
   "cell_type": "code",
   "execution_count": 3,
   "metadata": {},
   "outputs": [],
   "source": [
    "# Задаём массив\n",
    "\n",
    "massive = [-5, -8, -5, -16]"
   ]
  },
  {
   "cell_type": "code",
   "execution_count": 4,
   "metadata": {},
   "outputs": [
    {
     "name": "stdout",
     "output_type": "stream",
     "text": [
      "[-5, -8, -5, -16]\n",
      "0\n",
      "Текущая сумма -5\n",
      "начало возрастания суммы 0\n",
      "конец возрастания суммы 0\n",
      "Максимальная сумма 0\n",
      "минимальная сумма 0\n",
      "\n",
      "\n",
      "1\n",
      "Текущая сумма -13\n",
      "начало возрастания суммы 1\n",
      "конец возрастания суммы 0\n",
      "Максимальная сумма 0\n",
      "минимальная сумма -5\n",
      "\n",
      "\n",
      "2\n",
      "Текущая сумма -18\n",
      "начало возрастания суммы 2\n",
      "конец возрастания суммы 0\n",
      "Максимальная сумма 0\n",
      "минимальная сумма -13\n",
      "\n",
      "\n",
      "3\n",
      "Текущая сумма -34\n",
      "начало возрастания суммы 3\n",
      "конец возрастания суммы 0\n",
      "Максимальная сумма 0\n",
      "минимальная сумма -18\n",
      "\n",
      "\n"
     ]
    }
   ],
   "source": [
    "# Задаём переменные\n",
    "current_sum = 0 # текущая сумма\n",
    "worst_sum = 0 # минимум, с которым сравнивается текущая сумма. Самая маленькая из всех текущих сумм цикла\n",
    "index_begin = 0 # индекс начала подмассива\n",
    "index_end = 0 # индекс конца подмассива\n",
    "\n",
    "value = massive[0] # Максимальная сумма - на первом шаге цикла это первый элемент массива\n",
    "\n",
    "print(massive)\n",
    "for i in range(len(massive)): \n",
    "    \n",
    "        # Находим текущее максимальное значение:\n",
    "    if current_sum - worst_sum > value:  # Сравниваем сохранённый максимум с разницей между текущим значением суммы и минимальным\n",
    "        value = current_sum - worst_sum # Сохраняем большее из значений в ответ\n",
    "        index_end = i\n",
    "    \n",
    "        # Находим минимальное из всех значений текущей суммы\n",
    "    if worst_sum > current_sum: \n",
    "        worst_sum = current_sum\n",
    "        index_begin = i\n",
    " \n",
    "    current_sum += massive[i] # К текущей сумме прибавляем элемент массива\n",
    "    \n",
    "\n",
    "\n",
    "\n",
    "    print(i)\n",
    "    print('Текущая сумма', current_sum)\n",
    "    print('начало возрастания суммы', index_begin)\n",
    "    print('конец возрастания суммы', index_end)\n",
    "    print('Максимальная сумма', value)\n",
    "    print('минимальная сумма', worst_sum)\n",
    "\n",
    "\n",
    "    print()\n",
    "    print()"
   ]
  },
  {
   "cell_type": "markdown",
   "metadata": {},
   "source": [
    "## Остаётся проблема: что, если массив весь состоит из отрицательных значений?\n",
    "\n",
    "Или есть лишь один положительный элемент массива, находящийся не на последнем индексе?"
   ]
  },
  {
   "cell_type": "markdown",
   "metadata": {},
   "source": [
    "В таком случае индекс конца возрастания суммы останется равным нулю. Добавим функции условие:\n",
    "- Если индекс конца 0, выводим число под индексом начала -1"
   ]
  },
  {
   "cell_type": "markdown",
   "metadata": {},
   "source": [
    "# Тестирование\n",
    "\n",
    "Пробная функция и её тестирование на разных наборах:"
   ]
  },
  {
   "cell_type": "code",
   "execution_count": 5,
   "metadata": {},
   "outputs": [
    {
     "name": "stdout",
     "output_type": "stream",
     "text": [
      "[-2, 1, -3, 4, -1, 2, 1, -5, 4]\n"
     ]
    },
    {
     "data": {
      "text/plain": [
       "[4, -1, 2, 1]"
      ]
     },
     "execution_count": 5,
     "metadata": {},
     "output_type": "execute_result"
    }
   ],
   "source": [
    "findMaxSubArray([-2,1,-3,4,-1,2,1,-5,4])"
   ]
  },
  {
   "cell_type": "code",
   "execution_count": 6,
   "metadata": {},
   "outputs": [
    {
     "name": "stdout",
     "output_type": "stream",
     "text": [
      "[-5, -1, -5, -10]\n"
     ]
    },
    {
     "data": {
      "text/plain": [
       "-5"
      ]
     },
     "execution_count": 6,
     "metadata": {},
     "output_type": "execute_result"
    }
   ],
   "source": [
    "findMaxSubArray([-5, -1, -5, -10])"
   ]
  },
  {
   "cell_type": "code",
   "execution_count": 7,
   "metadata": {},
   "outputs": [
    {
     "name": "stdout",
     "output_type": "stream",
     "text": [
      "[0, 0, 0, 0]\n"
     ]
    },
    {
     "data": {
      "text/plain": [
       "0"
      ]
     },
     "execution_count": 7,
     "metadata": {},
     "output_type": "execute_result"
    }
   ],
   "source": [
    "findMaxSubArray([0, 0, 0, 0])"
   ]
  },
  {
   "cell_type": "code",
   "execution_count": 8,
   "metadata": {},
   "outputs": [
    {
     "name": "stdout",
     "output_type": "stream",
     "text": [
      "[1]\n"
     ]
    },
    {
     "data": {
      "text/plain": [
       "1"
      ]
     },
     "execution_count": 8,
     "metadata": {},
     "output_type": "execute_result"
    }
   ],
   "source": [
    "findMaxSubArray([1])"
   ]
  },
  {
   "cell_type": "code",
   "execution_count": 9,
   "metadata": {},
   "outputs": [
    {
     "name": "stdout",
     "output_type": "stream",
     "text": [
      "[-1]\n"
     ]
    },
    {
     "data": {
      "text/plain": [
       "-1"
      ]
     },
     "execution_count": 9,
     "metadata": {},
     "output_type": "execute_result"
    }
   ],
   "source": [
    "findMaxSubArray([-1])"
   ]
  },
  {
   "cell_type": "code",
   "execution_count": 10,
   "metadata": {},
   "outputs": [
    {
     "name": "stdout",
     "output_type": "stream",
     "text": [
      "[-2, -6, -1, -16]\n"
     ]
    },
    {
     "data": {
      "text/plain": [
       "-1"
      ]
     },
     "execution_count": 10,
     "metadata": {},
     "output_type": "execute_result"
    }
   ],
   "source": [
    "findMaxSubArray([-2, -6, -1, -16])"
   ]
  },
  {
   "cell_type": "code",
   "execution_count": null,
   "metadata": {},
   "outputs": [],
   "source": []
  }
 ],
 "metadata": {
  "kernelspec": {
   "display_name": "Python 3",
   "language": "python",
   "name": "python3"
  },
  "language_info": {
   "codemirror_mode": {
    "name": "ipython",
    "version": 3
   },
   "file_extension": ".py",
   "mimetype": "text/x-python",
   "name": "python",
   "nbconvert_exporter": "python",
   "pygments_lexer": "ipython3",
   "version": "3.7.4"
  }
 },
 "nbformat": 4,
 "nbformat_minor": 2
}
